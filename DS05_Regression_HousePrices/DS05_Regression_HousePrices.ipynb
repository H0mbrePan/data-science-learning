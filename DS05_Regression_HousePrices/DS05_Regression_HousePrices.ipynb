{
 "cells": [
  {
   "cell_type": "markdown",
   "id": "c0e94c2f",
   "metadata": {},
   "source": [
    "# 🧠 DS05 Regression HousePrices\n",
    "\n",
    "Welcome to this project notebook!"
   ]
  }
 ],
 "metadata": {},
 "nbformat": 4,
 "nbformat_minor": 5
}