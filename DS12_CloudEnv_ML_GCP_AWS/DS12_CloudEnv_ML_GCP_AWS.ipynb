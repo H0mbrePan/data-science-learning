{
 "cells": [
  {
   "cell_type": "markdown",
   "id": "ab84b115",
   "metadata": {},
   "source": [
    "# 🧠 DS12 CloudEnv ML GCP AWS\n",
    "\n",
    "Welcome to this project notebook!"
   ]
  }
 ],
 "metadata": {},
 "nbformat": 4,
 "nbformat_minor": 5
}