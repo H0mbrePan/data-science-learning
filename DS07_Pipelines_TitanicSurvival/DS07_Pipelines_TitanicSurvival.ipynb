{
 "cells": [
  {
   "cell_type": "markdown",
   "id": "0bdf29de",
   "metadata": {},
   "source": [
    "# 🧠 DS07 Pipelines TitanicSurvival\n",
    "\n",
    "Welcome to this project notebook!"
   ]
  }
 ],
 "metadata": {},
 "nbformat": 4,
 "nbformat_minor": 5
}