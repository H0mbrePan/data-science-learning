{
 "cells": [
  {
   "cell_type": "markdown",
   "id": "acd60ac9",
   "metadata": {},
   "source": [
    "# 🧠 DS04 FeatureEngineering AirbnbReviews\n",
    "\n",
    "Welcome to this project notebook!"
   ]
  }
 ],
 "metadata": {},
 "nbformat": 4,
 "nbformat_minor": 5
}