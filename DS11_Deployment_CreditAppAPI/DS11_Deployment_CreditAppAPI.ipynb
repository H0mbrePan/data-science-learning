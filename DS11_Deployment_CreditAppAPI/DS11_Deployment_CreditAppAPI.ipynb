{
 "cells": [
  {
   "cell_type": "markdown",
   "id": "002628e7",
   "metadata": {},
   "source": [
    "# 🧠 DS11 Deployment CreditAppAPI\n",
    "\n",
    "Welcome to this project notebook!"
   ]
  }
 ],
 "metadata": {},
 "nbformat": 4,
 "nbformat_minor": 5
}