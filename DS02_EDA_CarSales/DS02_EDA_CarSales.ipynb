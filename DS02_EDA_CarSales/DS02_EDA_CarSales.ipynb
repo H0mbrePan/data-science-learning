{
 "cells": [
  {
   "cell_type": "markdown",
   "id": "2e99f243",
   "metadata": {},
   "source": [
    "# 🧠 DS02 EDA CarSales\n",
    "\n",
    "Welcome to this project notebook!"
   ]
  }
 ],
 "metadata": {},
 "nbformat": 4,
 "nbformat_minor": 5
}