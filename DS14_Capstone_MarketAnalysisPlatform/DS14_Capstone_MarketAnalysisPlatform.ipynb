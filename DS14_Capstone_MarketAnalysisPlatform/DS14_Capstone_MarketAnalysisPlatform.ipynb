{
 "cells": [
  {
   "cell_type": "markdown",
   "id": "13c39d6a",
   "metadata": {},
   "source": [
    "# 🧠 DS14 Capstone MarketAnalysisPlatform\n",
    "\n",
    "Welcome to this project notebook!"
   ]
  }
 ],
 "metadata": {},
 "nbformat": 4,
 "nbformat_minor": 5
}