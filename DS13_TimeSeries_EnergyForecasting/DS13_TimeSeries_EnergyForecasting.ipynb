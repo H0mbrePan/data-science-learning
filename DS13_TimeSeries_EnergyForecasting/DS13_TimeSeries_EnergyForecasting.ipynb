{
 "cells": [
  {
   "cell_type": "markdown",
   "id": "91d8d55d",
   "metadata": {},
   "source": [
    "# 🧠 DS13 TimeSeries EnergyForecasting\n",
    "\n",
    "Welcome to this project notebook!"
   ]
  }
 ],
 "metadata": {},
 "nbformat": 4,
 "nbformat_minor": 5
}