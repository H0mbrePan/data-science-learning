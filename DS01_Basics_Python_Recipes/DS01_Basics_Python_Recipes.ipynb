{
 "cells": [
  {
   "cell_type": "markdown",
   "id": "638ed1e4",
   "metadata": {},
   "source": [
    "# 🧠 DS01 Basics Python Recipes\n",
    "\n",
    "Welcome to this project notebook!"
   ]
  }
 ],
 "metadata": {},
 "nbformat": 4,
 "nbformat_minor": 5
}