{
 "cells": [
  {
   "cell_type": "markdown",
   "id": "638ed1e4",
   "metadata": {},
   "source": [
    "# 🧠 DS01 Basics Python Recipes\n",
    "\n",
    "Welcome to this project notebook!"
   ]
  },
  {
   "cell_type": "markdown",
   "id": "3492c167-de7f-49cd-855b-2efe15ae721f",
   "metadata": {},
   "source": [
    "# Variables"
   ]
  },
  {
   "cell_type": "markdown",
   "id": "b6ca7a67-e2ec-41e3-9a15-d59101002a05",
   "metadata": {},
   "source": [
    "\"\"\" Variables are labeled cointaners that store information in memory \"\"\" <br>\n",
    "To create a variable you just have to assigin somethin to it"
   ]
  },
  {
   "cell_type": "code",
   "execution_count": 3,
   "id": "51690846-c1e7-4fa9-8a1d-d8a6a5575e49",
   "metadata": {},
   "outputs": [],
   "source": [
    "x = 5"
   ]
  },
  {
   "cell_type": "code",
   "execution_count": 2,
   "id": "0c24f8da-0913-4567-94f1-78fef690afc0",
   "metadata": {},
   "outputs": [],
   "source": [
    "Y = \"Dog\""
   ]
  },
  {
   "cell_type": "code",
   "execution_count": 13,
   "id": "ebef542e-a7a6-4441-a8c2-fbc406180399",
   "metadata": {},
   "outputs": [
    {
     "name": "stdout",
     "output_type": "stream",
     "text": [
      "The variable for x is = 5  The variable for Y is = Dog\n"
     ]
    }
   ],
   "source": [
    "print(\"The variable for x is =\", x, \" The variable for Y is =\", Y)"
   ]
  },
  {
   "cell_type": "markdown",
   "id": "eacda19e-b87a-4b2a-b848-b830d74498dd",
   "metadata": {},
   "source": [
    "# Data types"
   ]
  },
  {
   "cell_type": "markdown",
   "id": "33c8e276-e490-410c-83c5-783617f5a7d5",
   "metadata": {},
   "source": [
    "\"\"\" This is important in programming as the type of a variable as a relation to what the variable can do\"\"\" <br>\n",
    "Data can be of the following types"
   ]
  },
  {
   "cell_type": "markdown",
   "id": "96433cc4-d08f-4820-8ce0-b2fabcc22092",
   "metadata": {},
   "source": [
    "* Text = **str**.\n",
    "* Numeric = **int** (integer) , **float**(decimal), **complex**\n",
    "* Sequence = **list**, **tuple**, **range**\n",
    "* Mapping = **dict**\n",
    "* Boolean = **bool**"
   ]
  },
  {
   "cell_type": "code",
   "execution_count": 50,
   "id": "ba0d4386-68c7-4e76-8ff0-6c5b2a78425a",
   "metadata": {},
   "outputs": [],
   "source": [
    "a = \"Perro\" #str\n",
    "b = 3 #int\n",
    "c = 5.7 #float\n",
    "d = 12j #complex\n"
   ]
  },
  {
   "cell_type": "code",
   "execution_count": 51,
   "id": "05e1509d-3b5c-4de7-b003-d46d0c45e5a1",
   "metadata": {},
   "outputs": [],
   "source": [
    "variables = [a,b,c,d]"
   ]
  },
  {
   "cell_type": "code",
   "execution_count": 52,
   "id": "fe3c1801-de1b-40f0-975e-9a289dee3660",
   "metadata": {},
   "outputs": [
    {
     "name": "stdout",
     "output_type": "stream",
     "text": [
      "Perro is =  <class 'str'>\n",
      "3 is =  <class 'int'>\n",
      "5.7 is =  <class 'float'>\n",
      "12j is =  <class 'complex'>\n"
     ]
    }
   ],
   "source": [
    "for x in variables:\n",
    "    print (x, \"is = \"  ,type(x))"
   ]
  },
  {
   "cell_type": "markdown",
   "id": "782b370f-a6cf-4dc2-9e83-6d98f21dff4b",
   "metadata": {},
   "source": [
    "## Type Casting"
   ]
  },
  {
   "cell_type": "markdown",
   "id": "7abb939d-06d7-4980-8f45-fc23ae2a6162",
   "metadata": {},
   "source": [
    "You can specify the variable type on a variable for all intents and purposes <br>"
   ]
  },
  {
   "cell_type": "code",
   "execution_count": 58,
   "id": "e2137fe1-c27a-4746-9332-e8b8fb9450f9",
   "metadata": {},
   "outputs": [
    {
     "name": "stdout",
     "output_type": "stream",
     "text": [
      "2 is  <class 'str'>\n"
     ]
    }
   ],
   "source": [
    "e = str(2)\n",
    "print(e ,\"is \", type(e))"
   ]
  },
  {
   "cell_type": "code",
   "execution_count": 59,
   "id": "5d08584d-b477-4609-b704-8c18616915e2",
   "metadata": {},
   "outputs": [
    {
     "name": "stdout",
     "output_type": "stream",
     "text": [
      "5 is  <class 'int'>\n"
     ]
    }
   ],
   "source": [
    "f = int(\"5\")\n",
    "print(f ,\"is \", type(f))"
   ]
  },
  {
   "cell_type": "markdown",
   "id": "a1d1ee02-f294-4e45-a8d4-c43fc811f167",
   "metadata": {},
   "source": [
    "### Slicing string"
   ]
  },
  {
   "cell_type": "code",
   "execution_count": 76,
   "id": "26d9df80-2514-46d5-a8bf-62920c078d52",
   "metadata": {},
   "outputs": [
    {
     "name": "stdout",
     "output_type": "stream",
     "text": [
      "Hi Mom\n",
      "i Mo\n",
      "Hi\n",
      "Hi\n"
     ]
    }
   ],
   "source": [
    "g = \"Hi Mom\"\n",
    "print(g)\n",
    "print(g[1:5])\n",
    "print(g[0:2])\n",
    "print(g[:2])"
   ]
  },
  {
   "cell_type": "markdown",
   "id": "d3703b7d-7e33-41a5-86bf-88a59148cd58",
   "metadata": {},
   "source": [
    "### String concatenation"
   ]
  },
  {
   "cell_type": "code",
   "execution_count": 84,
   "id": "1252c3b4-5eeb-4d18-a078-bc5b39546a7f",
   "metadata": {},
   "outputs": [
    {
     "name": "stdout",
     "output_type": "stream",
     "text": [
      "Hello, Rob Good Morning\n"
     ]
    }
   ],
   "source": [
    "h = \"Hello, \"\n",
    "i = \"Good Morning\"\n",
    "concatenation = h + \"Rob \" + i\n",
    "print(concatenation)"
   ]
  },
  {
   "cell_type": "markdown",
   "id": "8f9b30f0-ee3a-4edd-ba16-d2865441540a",
   "metadata": {},
   "source": [
    "### String format"
   ]
  },
  {
   "cell_type": "markdown",
   "id": "bf71cac1-6ebc-462a-ab24-a439b091a0aa",
   "metadata": {},
   "source": [
    "F strings where introduced in python 3.6 and it is the prefeered way of formating"
   ]
  },
  {
   "cell_type": "code",
   "execution_count": 86,
   "id": "13d23afe-f0b2-41e2-9a84-88cc9d95bc76",
   "metadata": {},
   "outputs": [
    {
     "name": "stdout",
     "output_type": "stream",
     "text": [
      " The variable is stored in curly brackets 3\n"
     ]
    }
   ],
   "source": [
    "text =  f\" The variable is stored in curly brackets {b}\"\n",
    "print (text)"
   ]
  },
  {
   "cell_type": "code",
   "execution_count": 95,
   "id": "b0390693-5b7d-4ae4-9d2e-49cde0e2bad4",
   "metadata": {},
   "outputs": [
    {
     "name": "stdout",
     "output_type": "stream",
     "text": [
      "Inside the curly brackets you can place operations Perro3\n"
     ]
    }
   ],
   "source": [
    "text2 = f'Inside the curly brackets you can place operations {a+ str(b)}'\n",
    "print(text2)"
   ]
  },
  {
   "cell_type": "markdown",
   "id": "3196d2f7-ebf6-49a2-b21b-ed4e6e424e98",
   "metadata": {},
   "source": [
    "### Escape Characters"
   ]
  },
  {
   "cell_type": "code",
   "execution_count": null,
   "id": "794ce617-95d5-44c8-8c84-abcc3faea58e",
   "metadata": {},
   "outputs": [],
   "source": []
  }
 ],
 "metadata": {
  "kernelspec": {
   "display_name": "Python 3 (ipykernel)",
   "language": "python",
   "name": "python3"
  },
  "language_info": {
   "codemirror_mode": {
    "name": "ipython",
    "version": 3
   },
   "file_extension": ".py",
   "mimetype": "text/x-python",
   "name": "python",
   "nbconvert_exporter": "python",
   "pygments_lexer": "ipython3",
   "version": "3.10.0"
  }
 },
 "nbformat": 4,
 "nbformat_minor": 5
}
