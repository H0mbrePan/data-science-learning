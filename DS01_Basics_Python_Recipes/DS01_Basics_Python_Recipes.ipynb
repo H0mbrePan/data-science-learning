{
 "cells": [
  {
   "cell_type": "markdown",
   "id": "638ed1e4",
   "metadata": {},
   "source": [
    "# 🧠 DS01 Basics Python Recipes\n",
    "\n",
    "Welcome to this project notebook!"
   ]
  }
 ],
 "metadata": {
  "kernelspec": {
   "display_name": "Python 3 (ipykernel)",
   "language": "python",
   "name": "python3"
  },
  "language_info": {
   "codemirror_mode": {
    "name": "ipython",
    "version": 3
   },
   "file_extension": ".py",
   "mimetype": "text/x-python",
   "name": "python",
   "nbconvert_exporter": "python",
   "pygments_lexer": "ipython3",
   "version": "3.10.0"
  }
 },
 "nbformat": 4,
 "nbformat_minor": 5
}
